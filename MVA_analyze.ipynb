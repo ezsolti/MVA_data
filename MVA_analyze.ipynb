{
 "cells": [
  {
   "cell_type": "code",
   "execution_count": 11,
   "metadata": {},
   "outputs": [
    {
     "data": {
      "text/html": [
       "<div>\n",
       "<style scoped>\n",
       "    .dataframe tbody tr th:only-of-type {\n",
       "        vertical-align: middle;\n",
       "    }\n",
       "\n",
       "    .dataframe tbody tr th {\n",
       "        vertical-align: top;\n",
       "    }\n",
       "\n",
       "    .dataframe thead th {\n",
       "        text-align: right;\n",
       "    }\n",
       "</style>\n",
       "<table border=\"1\" class=\"dataframe\">\n",
       "  <thead>\n",
       "    <tr style=\"text-align: right;\">\n",
       "      <th></th>\n",
       "      <th>BU</th>\n",
       "      <th>CT</th>\n",
       "      <th>IE</th>\n",
       "      <th>fuelType</th>\n",
       "      <th>Cs137</th>\n",
       "      <th>Eu154</th>\n",
       "    </tr>\n",
       "  </thead>\n",
       "  <tbody>\n",
       "    <tr>\n",
       "      <th>0</th>\n",
       "      <td>5.0</td>\n",
       "      <td>0.00</td>\n",
       "      <td>1.5</td>\n",
       "      <td>UOX</td>\n",
       "      <td>0.000008</td>\n",
       "      <td>2.945246e-08</td>\n",
       "    </tr>\n",
       "    <tr>\n",
       "      <th>1</th>\n",
       "      <td>5.0</td>\n",
       "      <td>91.25</td>\n",
       "      <td>1.5</td>\n",
       "      <td>UOX</td>\n",
       "      <td>0.000008</td>\n",
       "      <td>2.886479e-08</td>\n",
       "    </tr>\n",
       "    <tr>\n",
       "      <th>2</th>\n",
       "      <td>5.0</td>\n",
       "      <td>182.50</td>\n",
       "      <td>1.5</td>\n",
       "      <td>UOX</td>\n",
       "      <td>0.000008</td>\n",
       "      <td>2.828885e-08</td>\n",
       "    </tr>\n",
       "    <tr>\n",
       "      <th>3</th>\n",
       "      <td>5.0</td>\n",
       "      <td>273.75</td>\n",
       "      <td>1.5</td>\n",
       "      <td>UOX</td>\n",
       "      <td>0.000007</td>\n",
       "      <td>2.772439e-08</td>\n",
       "    </tr>\n",
       "    <tr>\n",
       "      <th>4</th>\n",
       "      <td>5.0</td>\n",
       "      <td>365.00</td>\n",
       "      <td>1.5</td>\n",
       "      <td>UOX</td>\n",
       "      <td>0.000007</td>\n",
       "      <td>2.717120e-08</td>\n",
       "    </tr>\n",
       "  </tbody>\n",
       "</table>\n",
       "</div>"
      ],
      "text/plain": [
       "    BU      CT   IE fuelType     Cs137         Eu154\n",
       "0  5.0    0.00  1.5      UOX  0.000008  2.945246e-08\n",
       "1  5.0   91.25  1.5      UOX  0.000008  2.886479e-08\n",
       "2  5.0  182.50  1.5      UOX  0.000008  2.828885e-08\n",
       "3  5.0  273.75  1.5      UOX  0.000007  2.772439e-08\n",
       "4  5.0  365.00  1.5      UOX  0.000007  2.717120e-08"
      ]
     },
     "execution_count": 11,
     "metadata": {},
     "output_type": "execute_result"
    }
   ],
   "source": [
    "import os\n",
    "import numpy as np\n",
    "import pandas as pd\n",
    "import matplotlib\n",
    "import matplotlib.pyplot as plt\n",
    "from sklearn.preprocessing import StandardScaler\n",
    "from sklearn import preprocessing\n",
    "from sklearn import decomposition\n",
    "\n",
    "fueldata=pd.read_csv('PWR_UOX-MOX_BigDataFrame.csv',header = 0, usecols=['BU','CT','IE','fuelType','Cs137','Eu154'])\n",
    "fueldata.head()"
   ]
  },
  {
   "cell_type": "code",
   "execution_count": 12,
   "metadata": {},
   "outputs": [],
   "source": []
  },
  {
   "cell_type": "code",
   "execution_count": 35,
   "metadata": {},
   "outputs": [
    {
     "data": {
      "image/png": "[encoded data removed]",
      "text/plain": [
       "<Figure size 432x288 with 1 Axes>"
      ]
     },
     "metadata": {
      "needs_background": "light"
     },
     "output_type": "display_data"
    }
   ],
   "source": [
    "subfuel=fueldata[(fueldata[\"CT\"]== 5*365)]\n",
    "color= ['green' if l == 'UOX' else 'red' for l in subfuel.fuelType]\n",
    "plt.scatter(subfuel.BU,subfuel.Eu154*10000,color=color)#c=subfuel.IE, cmap='Greens')\n",
    "plt.xlabel('BU')\n",
    "plt.ylabel('isotope concentration')\n",
    "plt.show()"
   ]
  },
  {
   "cell_type": "code",
   "execution_count": 27,
   "metadata": {},
   "outputs": [
    {
     "data": {
      "text/plain": [
       "20         1.968146e-08\n",
       "151        2.387513e-08\n",
       "282        2.849374e-08\n",
       "413        3.353740e-08\n",
       "544        3.893408e-08\n",
       "675        4.469519e-08\n",
       "806        5.090997e-08\n",
       "937        5.747606e-08\n",
       "1068       6.439774e-08\n",
       "1199       7.164138e-08\n",
       "1330       7.924069e-08\n",
       "1461       8.668405e-08\n",
       "1592       9.499372e-08\n",
       "1723       1.035889e-07\n",
       "1854       1.124929e-07\n",
       "1985       1.217545e-07\n",
       "2116       1.311944e-07\n",
       "2247       1.409719e-07\n",
       "2378       1.509601e-07\n",
       "2509       1.610918e-07\n",
       "2640       1.714369e-07\n",
       "2771       1.819374e-07\n",
       "2902       1.926626e-07\n",
       "3033       2.035564e-07\n",
       "3164       2.147448e-07\n",
       "3295       2.260668e-07\n",
       "3426       2.376058e-07\n",
       "3557       2.490909e-07\n",
       "3688       2.608263e-07\n",
       "3819       2.726788e-07\n",
       "               ...     \n",
       "1317487    2.228451e-06\n",
       "1317618    2.257980e-06\n",
       "1317749    2.287892e-06\n",
       "1317880    2.317190e-06\n",
       "1318011    2.346589e-06\n",
       "1318142    2.375860e-06\n",
       "1318273    2.405324e-06\n",
       "1318404    2.434442e-06\n",
       "1318535    2.463033e-06\n",
       "1318666    2.492363e-06\n",
       "1318797    2.505164e-06\n",
       "1318928    2.533759e-06\n",
       "1319059    2.562933e-06\n",
       "1319190    2.591877e-06\n",
       "1319321    2.620303e-06\n",
       "1319452    2.648715e-06\n",
       "1319583    2.678048e-06\n",
       "1319714    2.706221e-06\n",
       "1319845    2.733890e-06\n",
       "1319976    2.761526e-06\n",
       "1320107    2.789228e-06\n",
       "1320238    2.816670e-06\n",
       "1320369    2.843941e-06\n",
       "1320500    2.871303e-06\n",
       "1320631    2.897881e-06\n",
       "1320762    2.924408e-06\n",
       "1320893    2.950481e-06\n",
       "1321024    2.976869e-06\n",
       "1321155    3.003109e-06\n",
       "1321286    3.029171e-06\n",
       "Name: Eu154, Length: 10087, dtype: float64"
      ]
     },
     "execution_count": 27,
     "metadata": {},
     "output_type": "execute_result"
    }
   ],
   "source": [
    "subfuel.Eu154"
   ]
  },
  {
   "cell_type": "code",
   "execution_count": null,
   "metadata": {},
   "outputs": [],
   "source": []
  }
 ],
 "metadata": {
  "kernelspec": {
   "display_name": "Python 3",
   "language": "python",
   "name": "python3"
  },
  "language_info": {
   "codemirror_mode": {
    "name": "ipython",
    "version": 3
   },
   "file_extension": ".py",
   "mimetype": "text/x-python",
   "name": "python",
   "nbconvert_exporter": "python",
   "pygments_lexer": "ipython3",
   "version": "3.7.3"
  }
 },
 "nbformat": 4,
 "nbformat_minor": 2
}
